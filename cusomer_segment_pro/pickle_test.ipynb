{
 "cells": [
  {
   "cell_type": "code",
   "execution_count": 1,
   "id": "f7babfaa-8dec-48d8-b0fa-512cb32ca663",
   "metadata": {},
   "outputs": [],
   "source": [
    "import pickle\n",
    "import pandas as pd"
   ]
  },
  {
   "cell_type": "code",
   "execution_count": 2,
   "id": "fa1a5f32-ade5-4218-8c3d-9dec0163bc9d",
   "metadata": {},
   "outputs": [],
   "source": [
    "model = pickle.load(open(\"kmeans.pkl\",\"rb\"))"
   ]
  },
  {
   "cell_type": "code",
   "execution_count": 3,
   "id": "00604e0b-b662-4b49-8f10-a9414ca8dd51",
   "metadata": {},
   "outputs": [],
   "source": [
    "user_data = pd.DataFrame([[\"Male\",47,43,41]],\n",
    "                         columns=[\"Gender\",\"Age\",\"Annual Income (k$)\",\"Spending Score (1-100)\"])"
   ]
  },
  {
   "cell_type": "code",
   "execution_count": 4,
   "id": "99dac733-8fe4-45cb-9f40-6512408170e0",
   "metadata": {},
   "outputs": [
    {
     "name": "stdout",
     "output_type": "stream",
     "text": [
      "Cluster assigned: [0]\n"
     ]
    }
   ],
   "source": [
    "cluster = model.predict(user_data)\n",
    "print(\"Cluster assigned:\", cluster)"
   ]
  },
  {
   "cell_type": "code",
   "execution_count": null,
   "id": "e3a22f5c-7c01-4072-a26a-81429c8a3746",
   "metadata": {},
   "outputs": [],
   "source": []
  }
 ],
 "metadata": {
  "kernelspec": {
   "display_name": "Python 3 (ipykernel)",
   "language": "python",
   "name": "python3"
  },
  "language_info": {
   "codemirror_mode": {
    "name": "ipython",
    "version": 3
   },
   "file_extension": ".py",
   "mimetype": "text/x-python",
   "name": "python",
   "nbconvert_exporter": "python",
   "pygments_lexer": "ipython3",
   "version": "3.13.2"
  }
 },
 "nbformat": 4,
 "nbformat_minor": 5
}
